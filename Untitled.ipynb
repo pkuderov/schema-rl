{
 "cells": [
  {
   "cell_type": "code",
   "execution_count": 1,
   "metadata": {},
   "outputs": [
    {
     "data": {
      "text/plain": [
       "(array([1, 5, 3]), [1, 1, 2, 2, 3, 3])"
      ]
     },
     "execution_count": 1,
     "metadata": {},
     "output_type": "execute_result"
    }
   ],
   "source": [
    "import numpy as np\n",
    "\n",
    "a = [1, 1, 2, 2, 3, 3]\n",
    "b = np.unique(a)\n",
    "\n",
    "b[1] = 5\n",
    "b, a"
   ]
  },
  {
   "cell_type": "code",
   "execution_count": 2,
   "metadata": {},
   "outputs": [
    {
     "name": "stdout",
     "output_type": "stream",
     "text": [
      "Using Python-MIP package version 1.6.8\n"
     ]
    }
   ],
   "source": [
    "from mip import model as mip, GRB, MINIMIZE"
   ]
  },
  {
   "cell_type": "code",
   "execution_count": 7,
   "metadata": {},
   "outputs": [
    {
     "ename": "NameError",
     "evalue": "name 'augmented_entities' is not defined",
     "output_type": "error",
     "traceback": [
      "\u001b[0;31m---------------------------------------------------------------------------\u001b[0m",
      "\u001b[0;31mNameError\u001b[0m                                 Traceback (most recent call last)",
      "\u001b[0;32m<ipython-input-7-60de77c92d9b>\u001b[0m in \u001b[0;36m<module>\u001b[0;34m\u001b[0m\n\u001b[0;32m----> 1\u001b[0;31m \u001b[0mpacked\u001b[0m \u001b[0;34m=\u001b[0m \u001b[0mnp\u001b[0m\u001b[0;34m.\u001b[0m\u001b[0mpackbits\u001b[0m\u001b[0;34m(\u001b[0m\u001b[0maugmented_entities\u001b[0m\u001b[0;34m,\u001b[0m \u001b[0maxis\u001b[0m\u001b[0;34m=\u001b[0m\u001b[0;36m1\u001b[0m\u001b[0;34m)\u001b[0m\u001b[0;34m\u001b[0m\u001b[0;34m\u001b[0m\u001b[0m\n\u001b[0m\u001b[1;32m      2\u001b[0m \u001b[0m_\u001b[0m\u001b[0;34m,\u001b[0m \u001b[0mpacked_idx\u001b[0m \u001b[0;34m=\u001b[0m \u001b[0mnp\u001b[0m\u001b[0;34m.\u001b[0m\u001b[0munique\u001b[0m\u001b[0;34m(\u001b[0m\u001b[0mpacked\u001b[0m\u001b[0;34m,\u001b[0m \u001b[0maxis\u001b[0m\u001b[0;34m=\u001b[0m\u001b[0;36m0\u001b[0m\u001b[0;34m,\u001b[0m \u001b[0mreturn_index\u001b[0m\u001b[0;34m=\u001b[0m\u001b[0;32mTrue\u001b[0m\u001b[0;34m)\u001b[0m\u001b[0;34m\u001b[0m\u001b[0;34m\u001b[0m\u001b[0m\n\u001b[1;32m      3\u001b[0m \u001b[0mis_equal\u001b[0m \u001b[0;34m=\u001b[0m \u001b[0mnp\u001b[0m\u001b[0;34m.\u001b[0m\u001b[0marray_equal\u001b[0m\u001b[0;34m(\u001b[0m\u001b[0midx\u001b[0m\u001b[0;34m,\u001b[0m \u001b[0mpacked_idx\u001b[0m\u001b[0;34m)\u001b[0m\u001b[0;34m\u001b[0m\u001b[0;34m\u001b[0m\u001b[0m\n",
      "\u001b[0;31mNameError\u001b[0m: name 'augmented_entities' is not defined"
     ]
    }
   ],
   "source": [
    "packed = np.packbits(augmented_entities, axis=1)\n",
    "_, packed_idx = np.unique(packed, axis=0, return_index=True)\n",
    "is_equal = np.array_equal(idx, packed_idx)"
   ]
  },
  {
   "cell_type": "code",
   "execution_count": 90,
   "metadata": {},
   "outputs": [],
   "source": [
    "def get_test(nx=1000, k=253, nw=220, seed=43):\n",
    "    if seed is not None:\n",
    "        np.random.seed(seed)\n",
    "\n",
    "    x = np.random.randint(2, size=(nx, k)).astype(np.bool)\n",
    "    w = np.random.randint(2, size=(k, nw)).astype(np.bool)\n",
    "    return x, w\n",
    "\n",
    "\n",
    "def predict_attrs(x, w):\n",
    "    return np.any(~(~x @ w), axis=1)"
   ]
  },
  {
   "cell_type": "code",
   "execution_count": null,
   "metadata": {},
   "outputs": [],
   "source": [
    "def predict_attrs_packed(x, w):\n",
    "    _x = np.packbits(x)\n",
    "    _w = np.packbits(w)\n",
    "    "
   ]
  },
  {
   "cell_type": "code",
   "execution_count": 95,
   "metadata": {},
   "outputs": [
    {
     "data": {
      "text/plain": [
       "(array([[False, False,  True,  True,  True, False, False,  True],\n",
       "        [ True,  True,  True, False, False, False,  True, False]]),\n",
       " array([[ True,  True],\n",
       "        [False,  True],\n",
       "        [ True,  True],\n",
       "        [ True,  True],\n",
       "        [False,  True],\n",
       "        [False,  True],\n",
       "        [ True, False],\n",
       "        [False, False]]))"
      ]
     },
     "execution_count": 95,
     "metadata": {},
     "output_type": "execute_result"
    }
   ],
   "source": [
    "x, w = get_test(2, 8, 2)\n",
    "\n",
    "x, w"
   ]
  },
  {
   "cell_type": "code",
   "execution_count": 105,
   "metadata": {},
   "outputs": [
    {
     "ename": "ValueError",
     "evalue": "operands could not be broadcast together with shapes (2,8) (8,2) ",
     "output_type": "error",
     "traceback": [
      "\u001b[0;31m---------------------------------------------------------------------------\u001b[0m",
      "\u001b[0;31mValueError\u001b[0m                                Traceback (most recent call last)",
      "\u001b[0;32m<ipython-input-105-ccee940b2cbd>\u001b[0m in \u001b[0;36m<module>\u001b[0;34m\u001b[0m\n\u001b[0;32m----> 1\u001b[0;31m \u001b[0;34m(\u001b[0m\u001b[0mx\u001b[0m \u001b[0;34m&\u001b[0m \u001b[0mw\u001b[0m\u001b[0;34m)\u001b[0m\u001b[0;34m.\u001b[0m\u001b[0mshape\u001b[0m\u001b[0;34m,\u001b[0m \u001b[0;34m(\u001b[0m\u001b[0mx\u001b[0m \u001b[0;34m@\u001b[0m \u001b[0mw\u001b[0m\u001b[0;34m)\u001b[0m\u001b[0;34m.\u001b[0m\u001b[0mshape\u001b[0m\u001b[0;34m\u001b[0m\u001b[0;34m\u001b[0m\u001b[0m\n\u001b[0m",
      "\u001b[0;31mValueError\u001b[0m: operands could not be broadcast together with shapes (2,8) (8,2) "
     ]
    }
   ],
   "source": [
    "(x & w).shape, (x @ w).shape"
   ]
  },
  {
   "cell_type": "code",
   "execution_count": 88,
   "metadata": {},
   "outputs": [
    {
     "name": "stdout",
     "output_type": "stream",
     "text": [
      "CPU times: user 14.8 ms, sys: 0 ns, total: 14.8 ms\n",
      "Wall time: 14.1 ms\n"
     ]
    }
   ],
   "source": [
    "%%time\n",
    "\n",
    "_ = predict_attrs(x, w)"
   ]
  },
  {
   "cell_type": "code",
   "execution_count": null,
   "metadata": {},
   "outputs": [],
   "source": []
  },
  {
   "cell_type": "code",
   "execution_count": 163,
   "metadata": {},
   "outputs": [
    {
     "data": {
      "text/plain": [
       "array([0, 0, 0, 1, 1])"
      ]
     },
     "execution_count": 163,
     "metadata": {},
     "output_type": "execute_result"
    }
   ],
   "source": [
    "import mip\n",
    "\n",
    "def solve_by_mip():\n",
    "    model = mip.Model(mip.MINIMIZE, solver_name=mip.CBC)\n",
    "    model.verbose = False\n",
    "\n",
    "    x = np.array([1, 2, 3, 4, 5])\n",
    "    w = [model.add_var(var_type='B') for _ in range(n)]\n",
    "    lp = x @ w\n",
    "\n",
    "    model.add_constr(lp >= 8)\n",
    "    model.objective = mip.xsum(w)\n",
    "\n",
    "    status = model.optimize()\n",
    "    return np.array([v.x for v in model.vars])\n",
    "\n",
    "solve_by_mip()"
   ]
  },
  {
   "cell_type": "code",
   "execution_count": 3,
   "metadata": {},
   "outputs": [],
   "source": [
    "from ortools.linear_solver import pywraplp as or_tools"
   ]
  },
  {
   "cell_type": "code",
   "execution_count": 175,
   "metadata": {},
   "outputs": [
    {
     "data": {
      "text/plain": [
       "array([0, 0, 0, 1, 1])"
      ]
     },
     "execution_count": 175,
     "metadata": {},
     "output_type": "execute_result"
    }
   ],
   "source": [
    "def solve_by_ortools():\n",
    "    model = or_tools.Solver(\"cbc\", problem_type=or_tools.Solver.CBC_MIXED_INTEGER_PROGRAMMING)\n",
    "    \n",
    "    x = np.array([1, 2, 3, 4, 5])\n",
    "    w = [model.BoolVar(str(i)) for i in range(n)]\n",
    "    lp = x @ w\n",
    "\n",
    "    model.Add(lp >= 7.9)\n",
    "    objective = model.Sum(w)\n",
    "    model.Minimize(objective)\n",
    "#     model.objective = mip.xsum(w)\n",
    "\n",
    "    status = model.Solve()\n",
    "    return np.array([v.solution_value() for v in w], dtype=np.int)\n",
    "\n",
    "solve_by_ortools()"
   ]
  },
  {
   "cell_type": "markdown",
   "metadata": {},
   "source": [
    "___"
   ]
  },
  {
   "cell_type": "code",
   "execution_count": 4,
   "metadata": {},
   "outputs": [],
   "source": [
    "def get_test(nx=1000, k=253, seed=43):\n",
    "    if seed is not None:\n",
    "        np.random.seed(seed)\n",
    "        \n",
    "    x = np.random.randint(2, size=(nx, k)) #.astype(np.bool)\n",
    "    y = np.random.randint(2, size=(nx)) #.astype(np.bool)\n",
    "    \n",
    "    x_packed = np.packbits(x, axis=1)\n",
    "    x_packed, unique_idx = np.unique(x_packed, return_index=True, axis=0)\n",
    "    \n",
    "    x = x[unique_idx]\n",
    "    y = y[unique_idx]\n",
    "    return x, y"
   ]
  },
  {
   "cell_type": "code",
   "execution_count": 82,
   "metadata": {},
   "outputs": [
    {
     "name": "stdout",
     "output_type": "stream",
     "text": [
      "CPU times: user 4.03 s, sys: 51.9 ms, total: 4.08 s\n",
      "Wall time: 4.08 s\n"
     ]
    },
    {
     "data": {
      "text/plain": [
       "('feasible',\n",
       " 1477.0,\n",
       " array([0, 0, 0, 0, 0, 0, 0, 0, 0, 0, 0, 0, 0, 0, 0, 1, 0, 0, 0, 0, 0, 0,\n",
       "        0, 0, 0, 0, 0, 0, 0, 0, 0, 0, 0, 0, 0, 0, 0, 0, 0, 0, 0, 0, 0, 0,\n",
       "        0, 0, 0, 0, 0, 0, 0, 0, 0, 0, 0, 0, 0, 0, 0, 0, 0, 0, 0, 0, 0, 0,\n",
       "        0, 0, 0, 0, 0, 0, 0, 0, 0, 1, 0, 0, 1, 0, 0, 0, 0, 0, 0, 0, 0, 0,\n",
       "        0, 0, 0, 0, 0, 1, 0, 0, 0, 0, 0, 0, 0, 0, 0, 0, 0, 0, 0, 0, 0, 0,\n",
       "        0, 0, 0, 0, 1, 0, 0, 0, 0, 0, 0, 0, 0, 0, 0, 0, 0, 0, 1, 0, 0, 0,\n",
       "        0, 0, 0, 0, 0, 0, 0, 0, 0, 0, 0, 0, 0, 0, 0, 0, 0, 0, 0, 0, 0, 0,\n",
       "        0, 0, 0, 0, 0, 0, 0, 0, 0, 0, 0, 0, 0, 0, 0, 0, 0, 0, 0, 0, 0, 0,\n",
       "        0, 0, 0, 0, 0, 0, 0, 0, 0, 0, 0, 0, 0, 0, 0, 0, 0, 0, 0, 0, 0, 0,\n",
       "        0, 0]))"
      ]
     },
     "execution_count": 82,
     "metadata": {},
     "output_type": "execute_result"
    }
   ],
   "source": [
    "%%time\n",
    "\n",
    "from itertools import chain\n",
    "\n",
    "def init_solved_set(one_targets):\n",
    "    one_target_indices = np.nonzero(one_targets)[0]\n",
    "    i = np.random.choice(one_target_indices)\n",
    "    return [i]\n",
    "\n",
    "def init_model(schema_len):\n",
    "    model = or_tools.Solver(\"cbc\", problem_type=or_tools.Solver.CBC_MIXED_INTEGER_PROGRAMMING)\n",
    "    model.SetNumThreads(4)\n",
    "    model.SetTimeLimit(2000)\n",
    "    w = np.array([model.BoolVar(f'{i}') for i in range(schema_len)])\n",
    "    return model, w\n",
    "\n",
    "def solve_by_ortools(model, x, y, w):    \n",
    "    zero_targets = y == 0\n",
    "    one_targets = y == 1\n",
    "    solved = init_solved_set(one_targets)\n",
    "    predicts = (1 - x) @ w\n",
    "\n",
    "    constraints = chain(\n",
    "        ((pr >= -.1 and pr <= .1) for pr in predicts[solved]),\n",
    "        (pr >= .9 for pr in predicts[zero_targets])\n",
    "#         (pr == 0 for pr in predicts[solved]),\n",
    "#         (pr >= 1 for pr in predicts[zero_targets])\n",
    "    )\n",
    "    for constr in constraints:\n",
    "        model.Add(constr)\n",
    "    \n",
    "    objective = model.Sum(predicts[one_targets])\n",
    "    model.Minimize(objective)\n",
    "    \n",
    "    status = model.Solve()\n",
    "    schema = np.array([v.solution_value() for v in w], dtype=np.int)\n",
    "    status = 'solved' if status == 0 else 'feasible' if status == 1 else 'nope'\n",
    "    return status, model.Objective().Value(), schema\n",
    "\n",
    "\n",
    "x, y = get_test(1000, 200, seed=42)\n",
    "\n",
    "# print(x)\n",
    "# print(y)\n",
    "# print('______________')\n",
    "\n",
    "model, w = init_model(x.shape[1])\n",
    "solve_by_ortools(model, x, y, w)"
   ]
  },
  {
   "cell_type": "code",
   "execution_count": 88,
   "metadata": {},
   "outputs": [
    {
     "name": "stdout",
     "output_type": "stream",
     "text": [
      "CPU times: user 2.95 s, sys: 22 µs, total: 2.95 s\n",
      "Wall time: 2.97 s\n"
     ]
    },
    {
     "data": {
      "text/plain": [
       "('solved',\n",
       " 1529.0,\n",
       " array([0, 0, 0, 0, 0, 0, 0, 0, 0, 0, 0, 0, 0, 0, 0, 1, 0, 0, 0, 0, 0, 0,\n",
       "        0, 0, 0, 0, 0, 0, 0, 0, 0, 0, 0, 0, 0, 0, 0, 0, 0, 0, 0, 0, 0, 1,\n",
       "        0, 0, 0, 0, 0, 0, 0, 0, 0, 0, 0, 0, 0, 0, 0, 0, 0, 0, 0, 0, 0, 0,\n",
       "        0, 0, 0, 0, 0, 0, 0, 0, 0, 0, 1, 0, 0, 0, 0, 0, 0, 0, 1, 0, 0, 0,\n",
       "        0, 0, 0, 0, 0, 0, 0, 0, 0, 0, 0, 1, 0, 1, 0, 0, 0, 0, 0, 0, 0, 0,\n",
       "        0, 0, 0, 0, 0, 0, 0, 0, 0, 0, 0, 0, 0, 0, 0, 0, 0, 0, 0, 0, 0, 0,\n",
       "        0, 0, 0, 0, 0, 0, 0, 0, 0, 0, 0, 0, 0, 0, 0, 0, 0, 0, 0, 0, 0, 0,\n",
       "        0, 0, 0, 0, 0, 0, 0, 0, 0, 0, 0, 0, 0, 0, 0, 0, 0, 0, 0, 0, 0, 0,\n",
       "        0, 0, 0, 0, 0, 0, 0, 0, 0, 0, 0, 0, 0, 0, 0, 0, 0, 0, 0, 0, 0, 0,\n",
       "        0, 0]))"
      ]
     },
     "execution_count": 88,
     "metadata": {},
     "output_type": "execute_result"
    }
   ],
   "source": [
    "%%time\n",
    "\n",
    "from itertools import chain\n",
    "\n",
    "def init_solved_set(one_targets):\n",
    "    one_target_indices = np.nonzero(one_targets)[0]\n",
    "    i = np.random.choice(one_target_indices)\n",
    "    return [i]\n",
    "\n",
    "def init_model_python_mip(schema_len):\n",
    "    model = mip.Model(mip.MINIMIZE, solver_name=mip.CBC)\n",
    "    model.verbose = False\n",
    "    model.threads = 4\n",
    "    model.emphasis = 1\n",
    "    w = np.array([model.add_var(var_type='B') for _ in range(schema_len)])\n",
    "    return model, w\n",
    "\n",
    "def solve_by_python_mip(model, x, y, w):    \n",
    "    zero_targets = y == 0\n",
    "    one_targets = y == 1\n",
    "    solved = init_solved_set(one_targets)\n",
    "    predicts = (1 - x) @ w\n",
    "\n",
    "    constraints = chain(\n",
    "        ((pr >= -.1 and pr <= .1) for pr in predicts[solved]),\n",
    "        (pr >= .9 for pr in predicts[zero_targets])\n",
    "#         (pr == 0 for pr in predicts[solved]),\n",
    "#         (pr >= 1 for pr in predicts[zero_targets])\n",
    "    )\n",
    "    for constr in constraints:\n",
    "        model.add_constr(constr)\n",
    "    \n",
    "    model.objective = mip.xsum(predicts[one_targets])\n",
    "    \n",
    "    status = model.optimize(max_seconds=2)\n",
    "    status = 'solved' if status == mip.OptimizationStatus.OPTIMAL \\\n",
    "        else 'feasible' if status == mip.OptimizationStatus.FEASIBLE \\\n",
    "        else 'nope'\n",
    "    schema = np.array([v.x for v in model.vars]) if status in ['solved', 'feasible'] else None\n",
    "    objective = model.objective_values[0] if status in ['solved', 'feasible'] else None\n",
    "    return status, objective, schema\n",
    "\n",
    "\n",
    "# x, y = get_test(1000, 200, seed=42)\n",
    "\n",
    "# print(x)\n",
    "# print(y)\n",
    "# print('______________')\n",
    "\n",
    "model, w = init_model_python_mip(x.shape[1])\n",
    "solve_by_python_mip(model, x, y, w)"
   ]
  },
  {
   "cell_type": "markdown",
   "metadata": {},
   "source": [
    "___"
   ]
  },
  {
   "cell_type": "code",
   "execution_count": 308,
   "metadata": {},
   "outputs": [
    {
     "name": "stdout",
     "output_type": "stream",
     "text": [
      "[[1 1 0 1 0 1 1 1 0 1]]\n",
      "(10, 10) (10,)\n"
     ]
    },
    {
     "data": {
      "text/plain": [
       "('solved', 3.0, array([0, 0, 0, 0, 0, 0, 1, 0, 0, 1]))"
      ]
     },
     "execution_count": 308,
     "metadata": {},
     "output_type": "execute_result"
    }
   ],
   "source": [
    "from itertools import chain\n",
    "\n",
    "class AbstractMipModel():    \n",
    "    @property\n",
    "    def w(self):\n",
    "        raise NotImplementedError()\n",
    "        \n",
    "    def add_constraint(self, constraints):\n",
    "        raise NotImplementedError()    \n",
    "    \n",
    "    def set_min_sum_objective(summands):\n",
    "        raise NotImplementedError()\n",
    "        \n",
    "    def solve(self):\n",
    "        raise NotImplementedError()\n",
    "        \n",
    "    def _get_loss(self):\n",
    "        raise NotImplementedError()\n",
    "        \n",
    "    def _get_solution(self):\n",
    "        raise NotImplementedError()\n",
    "        \n",
    "    @classmethod\n",
    "    def _is_feasible(cls, status):\n",
    "        raise NotImplementedError()\n",
    "        \n",
    "    def predict(self, x):\n",
    "        w = self.w\n",
    "        return (1 - x) @ w\n",
    "            \n",
    "    @staticmethod\n",
    "    def get_one_target_constraint(pr):\n",
    "        return pr >= -.1 and pr <= .1\n",
    "    \n",
    "    @staticmethod\n",
    "    def get_zero_target_constraint(pr):\n",
    "        return pr >= .9\n",
    "\n",
    "    \n",
    "class OrToolsModel(AbstractMipModel):\n",
    "    def __init__(self, n_vars):\n",
    "        self._model = or_tools.Solver(\"cbc\", problem_type=or_tools.Solver.CBC_MIXED_INTEGER_PROGRAMMING)\n",
    "        self._w = np.array([model.BoolVar(f'{i}') for i in range(n_vars)])\n",
    "        \n",
    "    @property\n",
    "    def w(self):\n",
    "        return self._w\n",
    "    \n",
    "    def set_min_sum_objective(summands):\n",
    "        objective = self._model.Sum(predicts[one_targets])\n",
    "        self._model.Minimize(objective)\n",
    "        \n",
    "    def solve(self):\n",
    "        status = self._model.Solve()\n",
    "        schema = np.array([v.solution_value() for v in w], dtype=np.int)\n",
    "        status = 'solved' if status == 0 else 'feasible' if status == 1 else 'nope'\n",
    "        return status, model.Objective().Value(), schema\n",
    "    \n",
    "    @classmethod\n",
    "    def _is_feasible(cls, status):\n",
    "        return status <= 1\n",
    "\n",
    "    def set_min_sum_objective(summands):\n",
    "        raise NotImplementedError()\n",
    "        \n",
    "    def solve(self):\n",
    "        raise NotImplementedError()\n",
    "        \n",
    "    def _get_loss(self):\n",
    "        raise NotImplementedError()\n",
    "        \n",
    "    def _get_solution(self):\n",
    "        raise NotImplementedError()\n",
    "        \n",
    "    @classmethod\n",
    "    def _is_feasible(cls, status):\n",
    "        raise NotImplementedError()\n",
    "\n",
    "class MipSolver():\n",
    "    def __init__(self, model):\n",
    "        self._model = model\n",
    "        \n",
    "    @staticmethod\n",
    "    def _get_initial_solved_set(one_targets):\n",
    "        one_target_indices = np.nonzero(one_targets)[0]\n",
    "        i = np.random.choice(one_target_indices)\n",
    "        return [i]\n",
    "    \n",
    "    def _add_constraints(one_targets, zero_targets):\n",
    "        constraints = chain(\n",
    "            map(self._model.get_one_target_constraint, one_targets),\n",
    "            map(self._model.get_zero_target_constraint, zero_targets)\n",
    "        )\n",
    "        for constr in constraints:\n",
    "            self._model.add_constraint(constr)\n",
    "        \n",
    "    def optimize(self, x, y):\n",
    "        zero_targets = y == 0\n",
    "        one_targets = y == 1\n",
    "        solved = self._get_initial_solved_set(one_targets)\n",
    "        predicts = self._model.predict(x)\n",
    "\n",
    "        self._add_constraints(\n",
    "            one_targets=predicts[solved],\n",
    "            zero_targets=predicts[zero_targets]\n",
    "        )\n",
    "\n",
    "        self._model.set_min_sum_objective(predicts[one_targets])\n",
    "        self._model.solve()\n",
    "    \n",
    "\n",
    "def init_model(schema_len):\n",
    "    model = or_tools.Solver(\"cbc\", problem_type=or_tools.Solver.CBC_MIXED_INTEGER_PROGRAMMING)\n",
    "    w = np.array([model.BoolVar(f'{i}') for i in range(schema_len)])\n",
    "    return model, w\n",
    "\n",
    "def solve_by_ortools(model, x, y, w):    \n",
    "    zero_targets = y == 0\n",
    "    one_targets = y == 1\n",
    "    solved = init_solved_set(one_targets)\n",
    "    print(x[solved])\n",
    "    print(x.shape, w.shape)\n",
    "    predicts = (1 - x) @ w\n",
    "\n",
    "    constraints = chain(\n",
    "        ((pr >= -.1 and pr <= .1) for pr in predicts[solved]),\n",
    "        (pr >= .9 for pr in predicts[zero_targets])\n",
    "    )\n",
    "    for constr in constraints:\n",
    "        model.Add(constr)\n",
    "    \n",
    "    objective = model.Sum(predicts[one_targets])\n",
    "    model.Minimize(objective)\n",
    "    \n",
    "    status = model.Solve()\n",
    "    schema = np.array([v.solution_value() for v in w], dtype=np.int)\n",
    "    status = 'solved' if status == 0 else 'feasible' if status == 1 else 'nope'\n",
    "    return status, model.Objective().Value(), schema\n",
    "\n",
    "\n",
    "x, y = get_test(10, 10, seed=42)\n",
    "\n",
    "# print(x)\n",
    "# print(y)\n",
    "# print('______________')\n",
    "\n",
    "model, w = init_model(x.shape[1])\n",
    "solve_by_ortools(model, x, y, w)"
   ]
  },
  {
   "cell_type": "code",
   "execution_count": null,
   "metadata": {},
   "outputs": [],
   "source": []
  }
 ],
 "metadata": {
  "kernelspec": {
   "display_name": "Python 3",
   "language": "python",
   "name": "python3"
  },
  "language_info": {
   "codemirror_mode": {
    "name": "ipython",
    "version": 3
   },
   "file_extension": ".py",
   "mimetype": "text/x-python",
   "name": "python",
   "nbconvert_exporter": "python",
   "pygments_lexer": "ipython3",
   "version": "3.7.3"
  }
 },
 "nbformat": 4,
 "nbformat_minor": 4
}
