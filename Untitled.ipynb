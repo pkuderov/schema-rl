{
 "cells": [
  {
   "cell_type": "code",
   "execution_count": 213,
   "metadata": {},
   "outputs": [
    {
     "data": {
      "text/plain": [
       "(array([1, 5, 3]), [1, 1, 2, 2, 3, 3])"
      ]
     },
     "execution_count": 213,
     "metadata": {},
     "output_type": "execute_result"
    }
   ],
   "source": [
    "import numpy as np\n",
    "\n",
    "a = [1, 1, 2, 2, 3, 3]\n",
    "b = np.unique(a)\n",
    "\n",
    "b[1] = 5\n",
    "b, a"
   ]
  },
  {
   "cell_type": "code",
   "execution_count": 2,
   "metadata": {},
   "outputs": [
    {
     "name": "stdout",
     "output_type": "stream",
     "text": [
      "Using Python-MIP package version 1.6.8\n"
     ]
    }
   ],
   "source": [
    "from mip import model as mip, GRB, MINIMIZE"
   ]
  },
  {
   "cell_type": "code",
   "execution_count": 7,
   "metadata": {},
   "outputs": [
    {
     "ename": "NameError",
     "evalue": "name 'augmented_entities' is not defined",
     "output_type": "error",
     "traceback": [
      "\u001b[0;31m---------------------------------------------------------------------------\u001b[0m",
      "\u001b[0;31mNameError\u001b[0m                                 Traceback (most recent call last)",
      "\u001b[0;32m<ipython-input-7-60de77c92d9b>\u001b[0m in \u001b[0;36m<module>\u001b[0;34m\u001b[0m\n\u001b[0;32m----> 1\u001b[0;31m \u001b[0mpacked\u001b[0m \u001b[0;34m=\u001b[0m \u001b[0mnp\u001b[0m\u001b[0;34m.\u001b[0m\u001b[0mpackbits\u001b[0m\u001b[0;34m(\u001b[0m\u001b[0maugmented_entities\u001b[0m\u001b[0;34m,\u001b[0m \u001b[0maxis\u001b[0m\u001b[0;34m=\u001b[0m\u001b[0;36m1\u001b[0m\u001b[0;34m)\u001b[0m\u001b[0;34m\u001b[0m\u001b[0;34m\u001b[0m\u001b[0m\n\u001b[0m\u001b[1;32m      2\u001b[0m \u001b[0m_\u001b[0m\u001b[0;34m,\u001b[0m \u001b[0mpacked_idx\u001b[0m \u001b[0;34m=\u001b[0m \u001b[0mnp\u001b[0m\u001b[0;34m.\u001b[0m\u001b[0munique\u001b[0m\u001b[0;34m(\u001b[0m\u001b[0mpacked\u001b[0m\u001b[0;34m,\u001b[0m \u001b[0maxis\u001b[0m\u001b[0;34m=\u001b[0m\u001b[0;36m0\u001b[0m\u001b[0;34m,\u001b[0m \u001b[0mreturn_index\u001b[0m\u001b[0;34m=\u001b[0m\u001b[0;32mTrue\u001b[0m\u001b[0;34m)\u001b[0m\u001b[0;34m\u001b[0m\u001b[0;34m\u001b[0m\u001b[0m\n\u001b[1;32m      3\u001b[0m \u001b[0mis_equal\u001b[0m \u001b[0;34m=\u001b[0m \u001b[0mnp\u001b[0m\u001b[0;34m.\u001b[0m\u001b[0marray_equal\u001b[0m\u001b[0;34m(\u001b[0m\u001b[0midx\u001b[0m\u001b[0;34m,\u001b[0m \u001b[0mpacked_idx\u001b[0m\u001b[0;34m)\u001b[0m\u001b[0;34m\u001b[0m\u001b[0;34m\u001b[0m\u001b[0m\n",
      "\u001b[0;31mNameError\u001b[0m: name 'augmented_entities' is not defined"
     ]
    }
   ],
   "source": [
    "packed = np.packbits(augmented_entities, axis=1)\n",
    "_, packed_idx = np.unique(packed, axis=0, return_index=True)\n",
    "is_equal = np.array_equal(idx, packed_idx)"
   ]
  },
  {
   "cell_type": "code",
   "execution_count": 90,
   "metadata": {},
   "outputs": [],
   "source": [
    "def get_test(nx=1000, k=253, nw=220, seed=43):\n",
    "    if seed is not None:\n",
    "        np.random.seed(seed)\n",
    "\n",
    "    x = np.random.randint(2, size=(nx, k)).astype(np.bool)\n",
    "    w = np.random.randint(2, size=(k, nw)).astype(np.bool)\n",
    "    return x, w\n",
    "\n",
    "\n",
    "def predict_attrs(x, w):\n",
    "    return np.any(~(~x @ w), axis=1)"
   ]
  },
  {
   "cell_type": "code",
   "execution_count": null,
   "metadata": {},
   "outputs": [],
   "source": [
    "def predict_attrs_packed(x, w):\n",
    "    _x = np.packbits(x)\n",
    "    _w = np.packbits(w)\n",
    "    "
   ]
  },
  {
   "cell_type": "code",
   "execution_count": 95,
   "metadata": {},
   "outputs": [
    {
     "data": {
      "text/plain": [
       "(array([[False, False,  True,  True,  True, False, False,  True],\n",
       "        [ True,  True,  True, False, False, False,  True, False]]),\n",
       " array([[ True,  True],\n",
       "        [False,  True],\n",
       "        [ True,  True],\n",
       "        [ True,  True],\n",
       "        [False,  True],\n",
       "        [False,  True],\n",
       "        [ True, False],\n",
       "        [False, False]]))"
      ]
     },
     "execution_count": 95,
     "metadata": {},
     "output_type": "execute_result"
    }
   ],
   "source": [
    "x, w = get_test(2, 8, 2)\n",
    "\n",
    "x, w"
   ]
  },
  {
   "cell_type": "code",
   "execution_count": 105,
   "metadata": {},
   "outputs": [
    {
     "ename": "ValueError",
     "evalue": "operands could not be broadcast together with shapes (2,8) (8,2) ",
     "output_type": "error",
     "traceback": [
      "\u001b[0;31m---------------------------------------------------------------------------\u001b[0m",
      "\u001b[0;31mValueError\u001b[0m                                Traceback (most recent call last)",
      "\u001b[0;32m<ipython-input-105-ccee940b2cbd>\u001b[0m in \u001b[0;36m<module>\u001b[0;34m\u001b[0m\n\u001b[0;32m----> 1\u001b[0;31m \u001b[0;34m(\u001b[0m\u001b[0mx\u001b[0m \u001b[0;34m&\u001b[0m \u001b[0mw\u001b[0m\u001b[0;34m)\u001b[0m\u001b[0;34m.\u001b[0m\u001b[0mshape\u001b[0m\u001b[0;34m,\u001b[0m \u001b[0;34m(\u001b[0m\u001b[0mx\u001b[0m \u001b[0;34m@\u001b[0m \u001b[0mw\u001b[0m\u001b[0;34m)\u001b[0m\u001b[0;34m.\u001b[0m\u001b[0mshape\u001b[0m\u001b[0;34m\u001b[0m\u001b[0;34m\u001b[0m\u001b[0m\n\u001b[0m",
      "\u001b[0;31mValueError\u001b[0m: operands could not be broadcast together with shapes (2,8) (8,2) "
     ]
    }
   ],
   "source": [
    "(x & w).shape, (x @ w).shape"
   ]
  },
  {
   "cell_type": "code",
   "execution_count": 88,
   "metadata": {},
   "outputs": [
    {
     "name": "stdout",
     "output_type": "stream",
     "text": [
      "CPU times: user 14.8 ms, sys: 0 ns, total: 14.8 ms\n",
      "Wall time: 14.1 ms\n"
     ]
    }
   ],
   "source": [
    "%%time\n",
    "\n",
    "_ = predict_attrs(x, w)"
   ]
  },
  {
   "cell_type": "code",
   "execution_count": null,
   "metadata": {},
   "outputs": [],
   "source": []
  },
  {
   "cell_type": "code",
   "execution_count": null,
   "metadata": {},
   "outputs": [],
   "source": [
    "import mip\n",
    "\n",
    "def solve_by_mip():\n",
    "    model = mip.Model(mip.MINIMIZE, solver_name=mip.CBC)\n",
    "    model.verbose = False\n",
    "\n",
    "    x = np.array([1, 2, 3, 4, 5])\n",
    "    w = [model.add_var(var_type='B') for _ in range(n)]\n",
    "    lp = x @ w\n",
    "\n",
    "    model.add_constr(lp >= 8)\n",
    "    model.objective = mip.xsum(w)\n",
    "\n",
    "    status = model.optimize()\n",
    "    return np.array([v.x for v in model.vars])\n",
    "\n",
    "solve_by_mip()"
   ]
  },
  {
   "cell_type": "code",
   "execution_count": 4,
   "metadata": {},
   "outputs": [],
   "source": [
    "from ortools.linear_solver import pywraplp as or_tools"
   ]
  },
  {
   "cell_type": "code",
   "execution_count": 175,
   "metadata": {},
   "outputs": [
    {
     "data": {
      "text/plain": [
       "array([0, 0, 0, 1, 1])"
      ]
     },
     "execution_count": 175,
     "metadata": {},
     "output_type": "execute_result"
    }
   ],
   "source": [
    "def solve_by_ortools():\n",
    "    model = or_tools.Solver(\"cbc\", problem_type=or_tools.Solver.CBC_MIXED_INTEGER_PROGRAMMING)\n",
    "    \n",
    "    x = np.array([1, 2, 3, 4, 5])\n",
    "    w = [model.BoolVar(str(i)) for i in range(n)]\n",
    "    lp = x @ w\n",
    "\n",
    "    model.Add(lp >= 7.9)\n",
    "    objective = model.Sum(w)\n",
    "    model.Minimize(objective)\n",
    "#     model.objective = mip.xsum(w)\n",
    "\n",
    "    status = model.Solve()\n",
    "    return np.array([v.solution_value() for v in w], dtype=np.int)\n",
    "\n",
    "solve_by_ortools()"
   ]
  },
  {
   "cell_type": "markdown",
   "metadata": {},
   "source": [
    "___"
   ]
  },
  {
   "cell_type": "code",
   "execution_count": 6,
   "metadata": {},
   "outputs": [],
   "source": [
    "def get_test(nx=1000, k=253, seed=43):\n",
    "    if seed is not None:\n",
    "        np.random.seed(seed)\n",
    "        \n",
    "    x = np.random.randint(2, size=(nx, k)) #.astype(np.bool)\n",
    "    y = np.random.randint(2, size=(nx)) #.astype(np.bool)\n",
    "    \n",
    "    x_packed = np.packbits(x, axis=1)\n",
    "    x_packed, unique_idx = np.unique(x_packed, return_index=True, axis=0)\n",
    "    \n",
    "    x = x[unique_idx]\n",
    "    y = y[unique_idx]\n",
    "    return x, y"
   ]
  },
  {
   "cell_type": "code",
   "execution_count": 82,
   "metadata": {},
   "outputs": [
    {
     "name": "stdout",
     "output_type": "stream",
     "text": [
      "CPU times: user 4.03 s, sys: 51.9 ms, total: 4.08 s\n",
      "Wall time: 4.08 s\n"
     ]
    },
    {
     "data": {
      "text/plain": [
       "('feasible',\n",
       " 1477.0,\n",
       " array([0, 0, 0, 0, 0, 0, 0, 0, 0, 0, 0, 0, 0, 0, 0, 1, 0, 0, 0, 0, 0, 0,\n",
       "        0, 0, 0, 0, 0, 0, 0, 0, 0, 0, 0, 0, 0, 0, 0, 0, 0, 0, 0, 0, 0, 0,\n",
       "        0, 0, 0, 0, 0, 0, 0, 0, 0, 0, 0, 0, 0, 0, 0, 0, 0, 0, 0, 0, 0, 0,\n",
       "        0, 0, 0, 0, 0, 0, 0, 0, 0, 1, 0, 0, 1, 0, 0, 0, 0, 0, 0, 0, 0, 0,\n",
       "        0, 0, 0, 0, 0, 1, 0, 0, 0, 0, 0, 0, 0, 0, 0, 0, 0, 0, 0, 0, 0, 0,\n",
       "        0, 0, 0, 0, 1, 0, 0, 0, 0, 0, 0, 0, 0, 0, 0, 0, 0, 0, 1, 0, 0, 0,\n",
       "        0, 0, 0, 0, 0, 0, 0, 0, 0, 0, 0, 0, 0, 0, 0, 0, 0, 0, 0, 0, 0, 0,\n",
       "        0, 0, 0, 0, 0, 0, 0, 0, 0, 0, 0, 0, 0, 0, 0, 0, 0, 0, 0, 0, 0, 0,\n",
       "        0, 0, 0, 0, 0, 0, 0, 0, 0, 0, 0, 0, 0, 0, 0, 0, 0, 0, 0, 0, 0, 0,\n",
       "        0, 0]))"
      ]
     },
     "execution_count": 82,
     "metadata": {},
     "output_type": "execute_result"
    }
   ],
   "source": [
    "%%time\n",
    "\n",
    "from itertools import chain\n",
    "\n",
    "def init_solved_set(one_targets):\n",
    "    one_target_indices = np.nonzero(one_targets)[0]\n",
    "    i = np.random.choice(one_target_indices)\n",
    "    return [i]\n",
    "\n",
    "def init_model(schema_len):\n",
    "    model = or_tools.Solver(\"cbc\", problem_type=or_tools.Solver.CBC_MIXED_INTEGER_PROGRAMMING)\n",
    "    model.SetNumThreads(4)\n",
    "    model.SetTimeLimit(2000)\n",
    "    w = np.array([model.BoolVar(f'{i}') for i in range(schema_len)])\n",
    "    return model, w\n",
    "\n",
    "def solve_by_ortools(model, x, y, w):    \n",
    "    zero_targets = y == 0\n",
    "    one_targets = y == 1\n",
    "    solved = init_solved_set(one_targets)\n",
    "    predicts = (1 - x) @ w\n",
    "\n",
    "    constraints = chain(\n",
    "        ((pr >= -.1 and pr <= .1) for pr in predicts[solved]),\n",
    "        (pr >= .9 for pr in predicts[zero_targets])\n",
    "#         (pr == 0 for pr in predicts[solved]),\n",
    "#         (pr >= 1 for pr in predicts[zero_targets])\n",
    "    )\n",
    "    for constr in constraints:\n",
    "        model.Add(constr)\n",
    "    \n",
    "    objective = model.Sum(predicts[one_targets])\n",
    "    model.Minimize(objective)\n",
    "    \n",
    "    status = model.Solve()\n",
    "    schema = np.array([v.solution_value() for v in w], dtype=np.int)\n",
    "    status = 'solved' if status == 0 else 'feasible' if status == 1 else 'nope'\n",
    "    return status, model.Objective().Value(), schema\n",
    "\n",
    "\n",
    "x, y = get_test(1000, 200, seed=42)\n",
    "\n",
    "# print(x)\n",
    "# print(y)\n",
    "# print('______________')\n",
    "\n",
    "model, w = init_model(x.shape[1])\n",
    "solve_by_ortools(model, x, y, w)"
   ]
  },
  {
   "cell_type": "code",
   "execution_count": 88,
   "metadata": {},
   "outputs": [
    {
     "name": "stdout",
     "output_type": "stream",
     "text": [
      "CPU times: user 2.95 s, sys: 22 µs, total: 2.95 s\n",
      "Wall time: 2.97 s\n"
     ]
    },
    {
     "data": {
      "text/plain": [
       "('solved',\n",
       " 1529.0,\n",
       " array([0, 0, 0, 0, 0, 0, 0, 0, 0, 0, 0, 0, 0, 0, 0, 1, 0, 0, 0, 0, 0, 0,\n",
       "        0, 0, 0, 0, 0, 0, 0, 0, 0, 0, 0, 0, 0, 0, 0, 0, 0, 0, 0, 0, 0, 1,\n",
       "        0, 0, 0, 0, 0, 0, 0, 0, 0, 0, 0, 0, 0, 0, 0, 0, 0, 0, 0, 0, 0, 0,\n",
       "        0, 0, 0, 0, 0, 0, 0, 0, 0, 0, 1, 0, 0, 0, 0, 0, 0, 0, 1, 0, 0, 0,\n",
       "        0, 0, 0, 0, 0, 0, 0, 0, 0, 0, 0, 1, 0, 1, 0, 0, 0, 0, 0, 0, 0, 0,\n",
       "        0, 0, 0, 0, 0, 0, 0, 0, 0, 0, 0, 0, 0, 0, 0, 0, 0, 0, 0, 0, 0, 0,\n",
       "        0, 0, 0, 0, 0, 0, 0, 0, 0, 0, 0, 0, 0, 0, 0, 0, 0, 0, 0, 0, 0, 0,\n",
       "        0, 0, 0, 0, 0, 0, 0, 0, 0, 0, 0, 0, 0, 0, 0, 0, 0, 0, 0, 0, 0, 0,\n",
       "        0, 0, 0, 0, 0, 0, 0, 0, 0, 0, 0, 0, 0, 0, 0, 0, 0, 0, 0, 0, 0, 0,\n",
       "        0, 0]))"
      ]
     },
     "execution_count": 88,
     "metadata": {},
     "output_type": "execute_result"
    }
   ],
   "source": [
    "%%time\n",
    "\n",
    "from itertools import chain\n",
    "\n",
    "def init_solved_set(one_targets):\n",
    "    one_target_indices = np.nonzero(one_targets)[0]\n",
    "    i = np.random.choice(one_target_indices)\n",
    "    return [i]\n",
    "\n",
    "def init_model_python_mip(schema_len):\n",
    "    model = mip.Model(mip.MINIMIZE, solver_name=mip.CBC)\n",
    "    model.verbose = False\n",
    "    model.threads = 4\n",
    "    model.emphasis = 1\n",
    "    w = np.array([model.add_var(var_type='B') for _ in range(schema_len)])\n",
    "    return model, w\n",
    "\n",
    "def solve_by_python_mip(model, x, y, w):    \n",
    "    zero_targets = y == 0\n",
    "    one_targets = y == 1\n",
    "    solved = init_solved_set(one_targets)\n",
    "    predicts = (1 - x) @ w\n",
    "\n",
    "    constraints = chain(\n",
    "        ((pr >= -.1 and pr <= .1) for pr in predicts[solved]),\n",
    "        (pr >= .9 for pr in predicts[zero_targets])\n",
    "#         (pr == 0 for pr in predicts[solved]),\n",
    "#         (pr >= 1 for pr in predicts[zero_targets])\n",
    "    )\n",
    "    for constr in constraints:\n",
    "        model.add_constr(constr)\n",
    "    \n",
    "    model.objective = mip.xsum(predicts[one_targets])\n",
    "    \n",
    "    status = model.optimize(max_seconds=2)\n",
    "    status = 'solved' if status == mip.OptimizationStatus.OPTIMAL \\\n",
    "        else 'feasible' if status == mip.OptimizationStatus.FEASIBLE \\\n",
    "        else 'nope'\n",
    "    schema = np.array([v.x for v in model.vars]) if status in ['solved', 'feasible'] else None\n",
    "    objective = model.objective_values[0] if status in ['solved', 'feasible'] else None\n",
    "    return status, objective, schema\n",
    "\n",
    "\n",
    "# x, y = get_test(1000, 200, seed=42)\n",
    "\n",
    "# print(x)\n",
    "# print(y)\n",
    "# print('______________')\n",
    "\n",
    "model, w = init_model_python_mip(x.shape[1])\n",
    "solve_by_python_mip(model, x, y, w)"
   ]
  },
  {
   "cell_type": "markdown",
   "metadata": {},
   "source": [
    "___"
   ]
  },
  {
   "cell_type": "code",
   "execution_count": 141,
   "metadata": {},
   "outputs": [],
   "source": [
    "from itertools import chain\n",
    "from abc import ABC, abstractmethod\n",
    "\n",
    "class AbstractMipModel(ABC):\n",
    "    @property\n",
    "    @abstractmethod\n",
    "    def w(self):\n",
    "        ...\n",
    "    \n",
    "    @abstractmethod\n",
    "    def add_constraint(self, constraint):\n",
    "        ...\n",
    "    \n",
    "    @abstractmethod\n",
    "    def set_min_sum_objective(summands):\n",
    "        ...\n",
    "    \n",
    "    @abstractmethod\n",
    "    def solve(self):\n",
    "        ...\n",
    "        \n",
    "    def predict(self, x):\n",
    "        w = self.w\n",
    "        return (1 - x) @ w\n",
    "            \n",
    "    @staticmethod\n",
    "    def get_one_target_constraint(pr):\n",
    "        return pr >= -.1 and pr <= .1\n",
    "    \n",
    "    @staticmethod\n",
    "    def get_zero_target_constraint(pr):\n",
    "        return pr >= .9\n",
    "    \n",
    "    @property\n",
    "    def _arr_type(self):\n",
    "        return np.int\n",
    "\n",
    "    \n",
    "class OrToolsModel(AbstractMipModel):\n",
    "    def __init__(self, n_vars, time_limit_sec=2, n_threads=4):\n",
    "        self._model = or_tools.Solver(\"cbc\", problem_type=or_tools.Solver.CBC_MIXED_INTEGER_PROGRAMMING)\n",
    "        self._model.SetNumThreads(n_threads)\n",
    "        \n",
    "        tl_msec = time_limit_sec * 1000\n",
    "        self._model.SetTimeLimit(tl_msec)\n",
    "        \n",
    "        self._w = np.array([self._model.BoolVar(f'{i}') for i in range(n_vars)])\n",
    "        \n",
    "    @property\n",
    "    def w(self):\n",
    "        return self._w\n",
    "    \n",
    "    def add_constraint(self, constraint):\n",
    "        self._model.Add(constraint)\n",
    "    \n",
    "    def set_min_sum_objective(self, summands):\n",
    "        objective = self._model.Sum(summands)\n",
    "        self._model.Minimize(objective)\n",
    "        \n",
    "    def solve(self):\n",
    "        status = self._model.Solve()\n",
    "        if not self._is_feasible(status):\n",
    "            return None\n",
    "        \n",
    "        schema = self._get_solution()\n",
    "        loss = self._get_loss()\n",
    "        return schema, loss\n",
    "        \n",
    "    def _get_solution(self):\n",
    "        return np.array([v.solution_value() for v in self._w], dtype=self._arr_type)\n",
    "        \n",
    "    def _get_loss(self):\n",
    "        return self._model.Objective().Value()\n",
    "\n",
    "    def _is_feasible(self, status):\n",
    "        return status in [self._model.OPTIMAL, self._model.FEASIBLE]\n",
    "\n",
    "\n",
    "class PythonMipModel(AbstractMipModel):\n",
    "    def __init__(self, n_vars, time_limit_sec=2, n_threads=4, emphasis=0):\n",
    "        self._model = mip.Model(mip.MINIMIZE, solver_name=mip.CBC)\n",
    "        self._model.verbose = False\n",
    "        self._model.threads = n_threads\n",
    "        self._model.emphasis = emphasis\n",
    "        self._time_limit_sec = time_limit_sec\n",
    "        \n",
    "        self._w = np.array([self._model.add_var(var_type='B') for _ in range(n_vars)])\n",
    "        \n",
    "    @property\n",
    "    def w(self):\n",
    "        return self._w\n",
    "    \n",
    "    def add_constraint(self, constraint):\n",
    "        self._model.add_constr(constraint)\n",
    "    \n",
    "    def set_min_sum_objective(self, summands):\n",
    "        self._model.objective = mip.minimize(mip.xsum(summands))\n",
    "        \n",
    "    def solve(self):\n",
    "        status = self._model.optimize(max_seconds=self._time_limit_sec)\n",
    "        if not self._is_feasible(status):\n",
    "            return None\n",
    "        \n",
    "        schema = self._get_solution()\n",
    "        loss = self._get_loss()\n",
    "        return schema, loss\n",
    "        \n",
    "    def _get_solution(self):\n",
    "        return np.array([v.x for v in self._model.vars], dtype=self._arr_type)\n",
    "        \n",
    "    def _get_loss(self):\n",
    "        return self._model.objective_values[0]\n",
    "\n",
    "    @classmethod\n",
    "    def _is_feasible(cls, status):\n",
    "        return status in [mip.OptimizationStatus.OPTIMAL, mip.OptimizationStatus.FEASIBLE]"
   ]
  },
  {
   "cell_type": "code",
   "execution_count": 127,
   "metadata": {},
   "outputs": [],
   "source": [
    "class MipSolver:\n",
    "    def __init__(self, model):\n",
    "        self._model = model\n",
    "        \n",
    "    @staticmethod\n",
    "    def _get_initial_solved_set(one_targets):\n",
    "        one_target_indices = np.nonzero(one_targets)[0]\n",
    "        i = np.random.choice(one_target_indices)\n",
    "        return np.array([i])\n",
    "    \n",
    "    def _add_constraints(self, one_targets, zero_targets):\n",
    "        constraints = chain(\n",
    "            map(self._model.get_one_target_constraint, one_targets),\n",
    "            map(self._model.get_zero_target_constraint, zero_targets)\n",
    "        )\n",
    "        for constr in constraints:\n",
    "            self._model.add_constraint(constr)\n",
    "            \n",
    "    def _get_new_solved_to_add(self, x, schema, solved):\n",
    "        prediction = (1 - x) @ schema\n",
    "        new_solved = np.nonzero(prediction == 0)\n",
    "        add_solved = np.setdiff1d(new_solved, solved, assume_unique=True)        \n",
    "        return add_solved\n",
    "        \n",
    "        \n",
    "    def optimize(self, x, y):\n",
    "        zero_targets = y == 0\n",
    "        one_targets = y == 1\n",
    "        solved = self._get_initial_solved_set(one_targets)\n",
    "        predicts = self._model.predict(x)\n",
    "        \n",
    "        self._add_constraints(\n",
    "            one_targets=predicts[solved],\n",
    "            zero_targets=predicts[zero_targets]\n",
    "        )\n",
    "\n",
    "        self._model.set_min_sum_objective(predicts[one_targets])\n",
    "        res = self._model.solve()\n",
    "        if res is None:\n",
    "            return res\n",
    "        \n",
    "#         schema, loss = res\n",
    "#         print(res)\n",
    "        \n",
    "#         add_solved = self._get_new_solved_to_add(x, schema, solved)\n",
    "#         print(add_solved)\n",
    "#         solved = np.concatenate((solved, add_solved))\n",
    "        \n",
    "#         self._add_constraints(\n",
    "#             one_targets=predicts[add_solved],\n",
    "#             zero_targets=[]\n",
    "#         )\n",
    "#         self._model.set_min_sum_objective(self._model.w)\n",
    "#         res = self._model.solve()\n",
    "#         assert res is not None, 'at least one solution exists'\n",
    "        return res\n",
    "\n",
    "\n",
    "x, y = get_test(1000, 50, seed=42)\n",
    "tl_sec = 5\n",
    "\n",
    "pm_model = PythonMipModel(x.shape[1], emphasis=1, time_limit_sec=tl_sec)\n",
    "ot_model = OrToolsModel(x.shape[1], time_limit_sec=tl_sec*5)\n",
    "\n",
    "# pm_solver = MipSolver(pm_model)\n",
    "# ot_solver = MipSolver(ot_model)\n",
    "\n",
    "# print('PM =>')\n",
    "# pm_result = pm_solver.optimize(x, y)\n",
    "# print('OT =>')\n",
    "# ot_result = ot_solver.optimize(x, y)\n",
    "\n",
    "# pm_result, ot_result"
   ]
  },
  {
   "cell_type": "code",
   "execution_count": 146,
   "metadata": {},
   "outputs": [
    {
     "name": "stdout",
     "output_type": "stream",
     "text": [
      "1428.0 4.2888780508656055\n",
      "1482.0 4.253484438173473\n",
      "1329.0 4.253750235075131\n",
      "1386.0 4.289785684086382\n",
      "1397.0 4.158845145953819\n",
      "1435.0 4.201644227141514\n",
      "1434.0 4.198045968078077\n",
      "1377.0 4.204149866942316\n",
      "1365.0 4.166639120085165\n",
      "1354.0 4.1994526789058\n",
      "CPU times: user 42.3 s, sys: 187 µs, total: 42.3 s\n",
      "Wall time: 42.3 s\n"
     ]
    }
   ],
   "source": [
    "%%time\n",
    "from timeit import default_timer as timer\n",
    "\n",
    "tl_sec = 3\n",
    "\n",
    "for i in range(10):\n",
    "    x, y = get_test(1000, 250, seed=i)\n",
    "    start = timer()\n",
    "    model = PythonMipModel(x.shape[1], emphasis=0, time_limit_sec=tl_sec)\n",
    "    res = MipSolver(model).optimize(x, y)\n",
    "    \n",
    "    print(res[1], timer() - start)"
   ]
  },
  {
   "cell_type": "code",
   "execution_count": 147,
   "metadata": {},
   "outputs": [
    {
     "name": "stdout",
     "output_type": "stream",
     "text": [
      "1428.0 4.223596026189625\n",
      "1482.0 4.1493118409998715\n",
      "1329.0 4.215781785082072\n",
      "1386.0 4.202161173103377\n",
      "1397.0 4.189181781839579\n",
      "1435.0 4.2071188520640135\n",
      "1434.0 4.189224891131744\n",
      "1377.0 4.176338738994673\n",
      "1365.0 4.1897353830281645\n",
      "1354.0 4.178371601039544\n",
      "CPU times: user 42 s, sys: 12.1 ms, total: 42 s\n",
      "Wall time: 42 s\n"
     ]
    }
   ],
   "source": [
    "%%time\n",
    "from timeit import default_timer as timer\n",
    "\n",
    "tl_sec = 3\n",
    "\n",
    "for i in range(10):\n",
    "    x, y = get_test(1000, 250, seed=i)\n",
    "    start = timer()\n",
    "    model = PythonMipModel(x.shape[1], emphasis=1, time_limit_sec=tl_sec)\n",
    "    res = MipSolver(model).optimize(x, y)\n",
    "    \n",
    "    print(res[1], timer() - start)"
   ]
  },
  {
   "cell_type": "code",
   "execution_count": 138,
   "metadata": {},
   "outputs": [
    {
     "name": "stdout",
     "output_type": "stream",
     "text": [
      "1424.0 9.303898522164673\n",
      "1439.0 9.511685563949868\n",
      "1402.0 9.272167342016473\n",
      "1429.0 9.173763739876449\n",
      "1212.0 9.220516446046531\n",
      "1220.0 9.219496075995266\n",
      "1429.0 9.348614028887823\n",
      "1416.0 9.277938465820625\n",
      "1177.0 9.198840294033289\n",
      "1392.0 9.208721122937277\n",
      "CPU times: user 1min 32s, sys: 72.2 ms, total: 1min 32s\n",
      "Wall time: 1min 32s\n"
     ]
    }
   ],
   "source": [
    "%%time\n",
    "from timeit import default_timer as timer\n",
    "\n",
    "x, y = get_test(1000, 250, seed=38)\n",
    "tl_sec = 8\n",
    "\n",
    "for _ in range(10):\n",
    "    start = timer()\n",
    "    model = PythonMipModel(x.shape[1], emphasis=1, time_limit_sec=tl_sec)\n",
    "    res = MipSolver(model).optimize(x, y)\n",
    "    \n",
    "    print(res[1], timer() - start)"
   ]
  },
  {
   "cell_type": "code",
   "execution_count": 142,
   "metadata": {},
   "outputs": [
    {
     "name": "stdout",
     "output_type": "stream",
     "text": [
      "1433.0 5.439468196826056\n",
      "1439.0 5.510022480040789\n",
      "1448.0 5.822795809013769\n",
      "1429.0 5.6735652920324355\n",
      "1212.0 5.5602978931274265\n",
      "1446.0 5.585435702931136\n",
      "1420.0 5.31124069285579\n",
      "1432.0 5.583127225050703\n",
      "1404.0 6.026571188820526\n",
      "1392.0 5.136213900055736\n",
      "CPU times: user 54.9 s, sys: 856 ms, total: 55.7 s\n",
      "Wall time: 55.7 s\n"
     ]
    }
   ],
   "source": [
    "%%time\n",
    "from timeit import default_timer as timer\n",
    "\n",
    "x, y = get_test(1000, 250, seed=38)\n",
    "tl_sec = 3\n",
    "\n",
    "for _ in range(10):\n",
    "    start = timer()\n",
    "    model = OrToolsModel(x.shape[1], time_limit_sec=tl_sec)\n",
    "    res = MipSolver(model).optimize(x, y)\n",
    "    \n",
    "    print(res[1], timer() - start)"
   ]
  },
  {
   "cell_type": "code",
   "execution_count": 143,
   "metadata": {},
   "outputs": [
    {
     "name": "stdout",
     "output_type": "stream",
     "text": [
      "1424.0 10.873435504036024\n",
      "1424.0 10.677496476098895\n",
      "1418.0 10.519869826035574\n",
      "1429.0 10.519281937973574\n",
      "1212.0 10.501161562977359\n",
      "1446.0 10.490305416984484\n",
      "1420.0 11.071891687810421\n",
      "1192.0 10.424153592204675\n",
      "1404.0 10.561310803052038\n",
      "1392.0 10.460285586072132\n",
      "CPU times: user 1min 47s, sys: 885 ms, total: 1min 47s\n",
      "Wall time: 1min 46s\n"
     ]
    }
   ],
   "source": [
    "%%time\n",
    "from timeit import default_timer as timer\n",
    "\n",
    "x, y = get_test(1000, 250, seed=38)\n",
    "tl_sec = 8\n",
    "\n",
    "for _ in range(10):\n",
    "    start = timer()\n",
    "    model = OrToolsModel(x.shape[1], time_limit_sec=tl_sec)\n",
    "    res = MipSolver(model).optimize(x, y)\n",
    "    \n",
    "    print(res[1], timer() - start)"
   ]
  },
  {
   "cell_type": "markdown",
   "metadata": {},
   "source": [
    "___"
   ]
  },
  {
   "cell_type": "code",
   "execution_count": 77,
   "metadata": {},
   "outputs": [
    {
     "name": "stdout",
     "output_type": "stream",
     "text": [
      "PM =>\n",
      "[ 25  30  40 138 154 182 197]\n",
      "(200,) (8,)\n",
      "[ True  True  True  True  True  True  True  True  True  True  True  True\n",
      "  True  True  True  True  True  True  True  True  True  True  True  True\n",
      "  True False  True  True  True  True False  True  True  True  True  True\n",
      "  True  True  True False False  True  True  True  True  True  True  True\n",
      "  True  True  True  True  True  True  True  True  True  True  True  True\n",
      "  True  True  True  True  True  True  True  True  True  True  True  True\n",
      "  True  True  True  True  True  True  True  True  True  True  True  True\n",
      "  True  True  True  True  True  True  True  True  True  True  True  True\n",
      "  True  True  True  True  True  True  True  True  True  True  True  True\n",
      "  True  True  True  True  True  True  True  True  True  True  True  True\n",
      "  True  True  True  True  True  True  True  True  True  True  True  True\n",
      "  True  True  True  True  True  True False  True  True  True  True  True\n",
      "  True  True  True  True  True  True  True  True  True  True False  True\n",
      "  True  True  True  True  True  True  True  True  True  True  True  True\n",
      "  True  True  True  True  True  True  True  True  True  True  True  True\n",
      "  True  True False  True  True  True  True  True  True  True  True  True\n",
      "  True  True  True  True  True False  True  True]\n",
      "(192, 100) (192,)\n"
     ]
    }
   ],
   "source": [
    "class MipSolver:\n",
    "    def __init__(self, model):\n",
    "        self._model = model\n",
    "        \n",
    "    @staticmethod\n",
    "    def _get_initial_solved_set(one_targets):\n",
    "        one_target_indices = np.nonzero(one_targets)[0]\n",
    "        i = np.random.choice(one_target_indices)\n",
    "        return np.array([i])\n",
    "    \n",
    "    def _add_constraints(self, one_targets=None, zero_targets=None):\n",
    "        one_targets = one_targets if one_targets is not None else []\n",
    "        zero_targets = zero_targets if zero_targets is not None else []\n",
    "        \n",
    "        constraints = chain(\n",
    "            map(self._model.get_one_target_constraint, one_targets),\n",
    "            map(self._model.get_zero_target_constraint, zero_targets)\n",
    "        )\n",
    "        for constr in constraints:\n",
    "            self._model.add_constraint(constr)\n",
    "            \n",
    "    def _get_new_solved_to_add(self, x, schema, solved):\n",
    "        prediction = (1 - x) @ schema\n",
    "        new_solved = np.nonzero(prediction == 0)\n",
    "        add_solved = np.setdiff1d(new_solved, solved, assume_unique=True)        \n",
    "        return add_solved\n",
    "        \n",
    "    def optimize(self, x, y):\n",
    "        schemas = []\n",
    "        for i in range(3):\n",
    "            res = self._find_one_scheme(x, y)\n",
    "            if res is None:\n",
    "                break\n",
    "                \n",
    "            schema, i_solved = res\n",
    "            schemas.append(schema)\n",
    "            \n",
    "            unsolved = np.ones_like(y, dtype=np.bool)\n",
    "            print(unsolved.shape, i_solved.shape)\n",
    "            \n",
    "            unsolved[i_solved] = False\n",
    "            print(unsolved)\n",
    "            x = x[unsolved]\n",
    "            y = y[unsolved]\n",
    "            print(x.shape, y.shape)\n",
    "        return schemas\n",
    "        \n",
    "    def _find_one_scheme(self, x, y):\n",
    "        zero_targets = y == 0\n",
    "        one_targets = y == 1\n",
    "        solved = self._get_initial_solved_set(one_targets)\n",
    "        predicts = self._model.predict(x)\n",
    "        \n",
    "        self._add_constraints(\n",
    "            one_targets=predicts[solved],\n",
    "            zero_targets=predicts[zero_targets]\n",
    "        )\n",
    "        \n",
    "        self._model.set_min_sum_objective(predicts[one_targets])\n",
    "        res = self._model.solve()\n",
    "        if res is None:\n",
    "            return res\n",
    "\n",
    "        schema, loss = res\n",
    "#         print(res)\n",
    "\n",
    "        add_solved = self._get_new_solved_to_add(x, schema, solved)\n",
    "        self._add_constraints(one_targets=predicts[add_solved])\n",
    "        solved = np.concatenate((solved, add_solved))\n",
    "        print(add_solved)\n",
    "\n",
    "        self._model.set_min_sum_objective(self._model.w)\n",
    "        res = self._model.solve()\n",
    "        assert res is not None, 'at least one solution exists'\n",
    "        return schema, solved\n",
    "\n",
    "\n",
    "x, y = get_test(200, 100, seed=42)\n",
    "tl_sec = 5\n",
    "\n",
    "pm_model = PythonMipModel(x.shape[1], emphasis=1, time_limit_sec=tl_sec)\n",
    "ot_model = OrToolsModel(x.shape[1], time_limit_sec=tl_sec*5)\n",
    "\n",
    "pm_solver = MipSolver(pm_model)\n",
    "ot_solver = MipSolver(ot_model)\n",
    "\n",
    "print('PM =>')\n",
    "pm_result = pm_solver.optimize(x, y)\n",
    "# print('OT =>')\n",
    "# ot_result = ot_solver.optimize(x, y)\n",
    "\n",
    "# pm_result, ot_result"
   ]
  },
  {
   "cell_type": "code",
   "execution_count": 101,
   "metadata": {},
   "outputs": [
    {
     "name": "stdout",
     "output_type": "stream",
     "text": [
      "PM =>\n",
      "[ 26  29  33  56  59  64  71  88  91  97 123]\n"
     ]
    }
   ],
   "source": [
    "class MipSolver:\n",
    "    def __init__(self, model):\n",
    "        self._model = model\n",
    "        \n",
    "    @staticmethod\n",
    "    def _get_initial_solved_set(one_targets):\n",
    "        one_target_indices = np.nonzero(one_targets)[0]\n",
    "        i = np.random.choice(one_target_indices)\n",
    "        return np.array([i])\n",
    "    \n",
    "    def _add_constraints(self, one_targets=None, zero_targets=None):\n",
    "        one_targets = one_targets if one_targets is not None else []\n",
    "        zero_targets = zero_targets if zero_targets is not None else []\n",
    "        \n",
    "        constraints = chain(\n",
    "            map(self._model.get_one_target_constraint, one_targets),\n",
    "            map(self._model.get_zero_target_constraint, zero_targets)\n",
    "        )\n",
    "        for constr in constraints:\n",
    "            self._model.add_constraint(constr)\n",
    "            \n",
    "    def _get_new_solved_to_add(self, x, schema, solved):\n",
    "        prediction = (1 - x) @ schema\n",
    "        new_solved = np.nonzero(prediction == 0)\n",
    "        add_solved = np.setdiff1d(new_solved, solved, assume_unique=True)        \n",
    "        return add_solved\n",
    "        \n",
    "    def optimize(self, x, y):\n",
    "        n_schemas = 3\n",
    "        schemas = np.ones((n_schemas, x.shape[1]), dtype=np.int)\n",
    "        \n",
    "        for i in range(n_schemas):\n",
    "            prediction = (1 - x) @ (schemas[:i] if i > 0 else schemas[:1]).T\n",
    "            prediction = ~np.any(prediction, axis=1)\n",
    "            res = self._find_one_scheme(x[prediction == 0], y[prediction == 0])\n",
    "            if res is None:\n",
    "                break\n",
    "                \n",
    "            schema, _ = res\n",
    "            schemas[i] = schema\n",
    "        return schemas\n",
    "        \n",
    "    def _find_one_scheme(self, x, y):\n",
    "        zero_targets = y == 0\n",
    "        one_targets = y == 1\n",
    "        solved = self._get_initial_solved_set(one_targets)\n",
    "        predicts = self._model.predict(x)\n",
    "        \n",
    "        self._add_constraints(\n",
    "            one_targets=predicts[solved],\n",
    "            zero_targets=predicts[zero_targets]\n",
    "        )\n",
    "        \n",
    "        self._model.set_min_sum_objective(predicts[one_targets])\n",
    "        res = self._model.solve()\n",
    "        if res is None:\n",
    "            return res\n",
    "\n",
    "        schema, loss = res\n",
    "#         print(res)\n",
    "\n",
    "        add_solved = self._get_new_solved_to_add(x, schema, solved)\n",
    "        self._add_constraints(one_targets=predicts[add_solved])\n",
    "        solved = np.concatenate((solved, add_solved))\n",
    "        print(add_solved)\n",
    "\n",
    "        self._model.set_min_sum_objective(self._model.w)\n",
    "        res = self._model.solve()\n",
    "        assert res is not None, 'at least one solution exists'\n",
    "        return schema, solved\n",
    "\n",
    "\n",
    "x, y = get_test(200, 100, seed=7)\n",
    "tl_sec = 5\n",
    "\n",
    "pm_model = PythonMipModel(x.shape[1], emphasis=1, time_limit_sec=tl_sec)\n",
    "ot_model = OrToolsModel(x.shape[1], time_limit_sec=tl_sec*5)\n",
    "\n",
    "pm_solver = MipSolver(pm_model)\n",
    "ot_solver = MipSolver(ot_model)\n",
    "\n",
    "print('PM =>')\n",
    "pm_result = pm_solver.optimize(x, y)\n",
    "# print('OT =>')\n",
    "# ot_result = ot_solver.optimize(x, y)\n",
    "\n",
    "# pm_result, ot_result"
   ]
  },
  {
   "cell_type": "code",
   "execution_count": null,
   "metadata": {},
   "outputs": [],
   "source": []
  },
  {
   "cell_type": "markdown",
   "metadata": {},
   "source": [
    "___\n",
    "\n",
    "## SchemaFinder"
   ]
  },
  {
   "cell_type": "code",
   "execution_count": 157,
   "metadata": {},
   "outputs": [],
   "source": [
    "class MipSolver:\n",
    "    def __init__(self, model):\n",
    "        self._model = model\n",
    "        \n",
    "    @staticmethod\n",
    "    def _get_initial_solved_set(one_targets):\n",
    "        one_target_indices = np.nonzero(one_targets)[0]\n",
    "        i = np.random.choice(one_target_indices)\n",
    "        return np.array([i])\n",
    "    \n",
    "    def _add_constraints(self, one_targets, zero_targets, constraints=None):\n",
    "        if constraints is None:\n",
    "            constraints = list(chain(\n",
    "                map(self._model.get_one_target_constraint, one_targets),\n",
    "                map(self._model.get_zero_target_constraint, zero_targets)\n",
    "            ))\n",
    "        for constr in constraints:\n",
    "            self._model.add_constraint(constr)\n",
    "        \n",
    "        return constraints            \n",
    "            \n",
    "    def _get_new_solved_to_add(self, x, schema, solved):\n",
    "        prediction = (1 - x) @ schema\n",
    "        new_solved = np.nonzero(prediction == 0)\n",
    "        add_solved = np.setdiff1d(new_solved, solved, assume_unique=True)        \n",
    "        return add_solved\n",
    "        \n",
    "        \n",
    "    def optimize(self, x, y, constraints=None):\n",
    "        if constraints is not None:\n",
    "            self._model._model.remove([c for c in self._model._model.constrs])\n",
    "        \n",
    "        zero_targets = y == 0\n",
    "        one_targets = y == 1\n",
    "        solved = self._get_initial_solved_set(one_targets)\n",
    "        predicts = self._model.predict(x)\n",
    "        \n",
    "        constraints = self._add_constraints(\n",
    "            one_targets=predicts[solved],\n",
    "            zero_targets=predicts[zero_targets],\n",
    "            constraints=constraints\n",
    "        )\n",
    "\n",
    "        self._model.set_min_sum_objective(predicts[one_targets])\n",
    "        res = self._model.solve()\n",
    "        return res, constraints\n",
    "        \n",
    "#         schema, loss = res\n",
    "#         print(res)\n",
    "        \n",
    "#         add_solved = self._get_new_solved_to_add(x, schema, solved)\n",
    "#         print(add_solved)\n",
    "#         solved = np.concatenate((solved, add_solved))\n",
    "        \n",
    "#         self._add_constraints(\n",
    "#             one_targets=predicts[add_solved],\n",
    "#             zero_targets=[]\n",
    "#         )\n",
    "#         self._model.set_min_sum_objective(self._model.w)\n",
    "#         res = self._model.solve()\n",
    "#         assert res is not None, 'at least one solution exists'\n",
    "#         return res\n",
    "\n",
    "\n",
    "x, y = get_test(1000, 50, seed=42)\n",
    "tl_sec = 5\n",
    "\n",
    "pm_model = PythonMipModel(x.shape[1], emphasis=1, time_limit_sec=tl_sec)\n",
    "ot_model = OrToolsModel(x.shape[1], time_limit_sec=tl_sec*5)\n",
    "\n",
    "# pm_solver = MipSolver(pm_model)\n",
    "# ot_solver = MipSolver(ot_model)\n",
    "\n",
    "# print('PM =>')\n",
    "# pm_result = pm_solver.optimize(x, y)\n",
    "# print('OT =>')\n",
    "# ot_result = ot_solver.optimize(x, y)\n",
    "\n",
    "# pm_result, ot_result"
   ]
  },
  {
   "cell_type": "code",
   "execution_count": 158,
   "metadata": {},
   "outputs": [
    {
     "name": "stdout",
     "output_type": "stream",
     "text": [
      "1428.0 4.244672856992111\n",
      "1476.0 4.214873160002753\n",
      "1314.0 4.181665992131457\n",
      "1401.0 4.244109038030729\n",
      "1384.0 4.182995870010927\n",
      "1428.0 4.161148020066321\n",
      "1492.0 4.305400545941666\n",
      "1370.0 4.41894399211742\n",
      "1396.0 4.171466191997752\n",
      "1350.0 4.181934193009511\n",
      "CPU times: user 42.4 s, sys: 16.1 ms, total: 42.4 s\n",
      "Wall time: 42.4 s\n"
     ]
    }
   ],
   "source": [
    "%%time\n",
    "from timeit import default_timer as timer\n",
    "\n",
    "tl_sec = 3\n",
    "constr = None\n",
    "x, y = get_test(1000, 250, seed=i)\n",
    "model = PythonMipModel(x.shape[1], emphasis=0, time_limit_sec=tl_sec)\n",
    "\n",
    "for i in range(10):\n",
    "    x, y = get_test(1000, 250, seed=i)\n",
    "    start = timer()\n",
    "    res, constr = MipSolver(model).optimize(x, y, constr)\n",
    "    \n",
    "    print(res[1], timer() - start)"
   ]
  },
  {
   "cell_type": "code",
   "execution_count": 194,
   "metadata": {},
   "outputs": [],
   "source": [
    "x = np.random.randint(0, 4, size=(500, 250))"
   ]
  },
  {
   "cell_type": "code",
   "execution_count": 208,
   "metadata": {},
   "outputs": [],
   "source": [
    "y = x[400].copy()\n",
    "y[240] = 5"
   ]
  },
  {
   "cell_type": "code",
   "execution_count": 212,
   "metadata": {},
   "outputs": [
    {
     "data": {
      "text/plain": [
       "(array([], dtype=int64),)"
      ]
     },
     "execution_count": 212,
     "metadata": {},
     "output_type": "execute_result"
    }
   ],
   "source": [
    "np.nonzero((x == y).all(axis=1))[0]"
   ]
  },
  {
   "cell_type": "code",
   "execution_count": 197,
   "metadata": {},
   "outputs": [
    {
     "name": "stdout",
     "output_type": "stream",
     "text": [
      "102 µs ± 2.65 µs per loop (mean ± std. dev. of 7 runs, 10000 loops each)\n"
     ]
    }
   ],
   "source": [
    "%timeit np.nonzero((x == y).all(axis=1))[0][0]"
   ]
  },
  {
   "cell_type": "code",
   "execution_count": 200,
   "metadata": {},
   "outputs": [],
   "source": [
    "def find_row(x, y):\n",
    "    for i in range(x.shape[0]):\n",
    "        if np.array_equal(x[i], y):\n",
    "            return i\n",
    "    return None"
   ]
  },
  {
   "cell_type": "code",
   "execution_count": 201,
   "metadata": {},
   "outputs": [
    {
     "data": {
      "text/plain": [
       "400"
      ]
     },
     "execution_count": 201,
     "metadata": {},
     "output_type": "execute_result"
    }
   ],
   "source": [
    "find_row(x, y)"
   ]
  },
  {
   "cell_type": "code",
   "execution_count": 203,
   "metadata": {},
   "outputs": [
    {
     "name": "stdout",
     "output_type": "stream",
     "text": [
      "1.99 ms ± 55.4 µs per loop (mean ± std. dev. of 7 runs, 100 loops each)\n"
     ]
    }
   ],
   "source": [
    "%%timeit\n",
    "for i in range(x.shape[0]):\n",
    "    if np.array_equal(x[i], y):\n",
    "        break"
   ]
  },
  {
   "cell_type": "code",
   "execution_count": 207,
   "metadata": {},
   "outputs": [
    {
     "name": "stdout",
     "output_type": "stream",
     "text": [
      "2.4 ms ± 35.7 µs per loop (mean ± std. dev. of 7 runs, 100 loops each)\n"
     ]
    }
   ],
   "source": [
    "%timeit np.unique(x, axis=1)"
   ]
  },
  {
   "cell_type": "code",
   "execution_count": null,
   "metadata": {},
   "outputs": [],
   "source": []
  },
  {
   "cell_type": "code",
   "execution_count": 333,
   "metadata": {},
   "outputs": [],
   "source": [
    "x, y = get_test(1000, 250, seed=17)\n",
    "indices = np.random.randint(x.shape[0], size=220)\n",
    "pred = np.any(~(~x.astype(np.bool) @ x[indices].T.astype(np.bool)), axis=1)"
   ]
  },
  {
   "cell_type": "code",
   "execution_count": 334,
   "metadata": {},
   "outputs": [
    {
     "name": "stdout",
     "output_type": "stream",
     "text": [
      "2.97 ms ± 49.6 µs per loop (mean ± std. dev. of 7 runs, 100 loops each)\n"
     ]
    }
   ],
   "source": [
    "%timeit pred = np.any(~(~x.astype(np.bool) @ x[indices].T.astype(np.bool)), axis=1)"
   ]
  },
  {
   "cell_type": "code",
   "execution_count": 327,
   "metadata": {},
   "outputs": [],
   "source": [
    "x = np.packbits(x, axis=1)"
   ]
  },
  {
   "cell_type": "code",
   "execution_count": 328,
   "metadata": {},
   "outputs": [
    {
     "name": "stdout",
     "output_type": "stream",
     "text": [
      "30.1 ms ± 779 µs per loop (mean ± std. dev. of 7 runs, 10 loops each)\n"
     ]
    }
   ],
   "source": [
    "%%timeit\n",
    "\n",
    "res = np.zeros(x.shape[0], dtype=np.bool)\n",
    "nx = ~x\n",
    "np.any([~(nx & w).any(axis=1) for w in x[indices]], axis=0)\n",
    "\n",
    "# (~(nx & x[0]).any(axis=1) | ~(nx & x[1]).any(axis=1))"
   ]
  },
  {
   "cell_type": "code",
   "execution_count": 284,
   "metadata": {},
   "outputs": [
    {
     "data": {
      "text/plain": [
       "((2000,), (2000,))"
      ]
     },
     "execution_count": 284,
     "metadata": {},
     "output_type": "execute_result"
    }
   ],
   "source": [
    "pred.shape, res.shape"
   ]
  },
  {
   "cell_type": "code",
   "execution_count": 290,
   "metadata": {},
   "outputs": [
    {
     "data": {
      "text/plain": [
       "(211, 211, True)"
      ]
     },
     "execution_count": 290,
     "metadata": {},
     "output_type": "execute_result"
    }
   ],
   "source": [
    "pred.sum(), res.sum(), np.array_equal(pred, res)"
   ]
  },
  {
   "cell_type": "code",
   "execution_count": 336,
   "metadata": {},
   "outputs": [
    {
     "ename": "ValueError",
     "evalue": "not enough values to unpack (expected 3, got 0)",
     "output_type": "error",
     "traceback": [
      "\u001b[0;31m---------------------------------------------------------------------------\u001b[0m",
      "\u001b[0;31mValueError\u001b[0m                                Traceback (most recent call last)",
      "\u001b[0;32m<ipython-input-336-09512e3cb3ae>\u001b[0m in \u001b[0;36m<module>\u001b[0;34m\u001b[0m\n\u001b[0;32m----> 1\u001b[0;31m \u001b[0ma\u001b[0m\u001b[0;34m,\u001b[0m\u001b[0mb\u001b[0m\u001b[0;34m,\u001b[0m\u001b[0mc\u001b[0m \u001b[0;34m=\u001b[0m \u001b[0mzip\u001b[0m\u001b[0;34m(\u001b[0m\u001b[0;34m*\u001b[0m\u001b[0;34m[\u001b[0m\u001b[0;34m]\u001b[0m\u001b[0;34m)\u001b[0m\u001b[0;34m\u001b[0m\u001b[0;34m\u001b[0m\u001b[0m\n\u001b[0m",
      "\u001b[0;31mValueError\u001b[0m: not enough values to unpack (expected 3, got 0)"
     ]
    }
   ],
   "source": [
    "a,b,c = zip(*[])"
   ]
  }
 ],
 "metadata": {
  "kernelspec": {
   "display_name": "Python 3",
   "language": "python",
   "name": "python3"
  },
  "language_info": {
   "codemirror_mode": {
    "name": "ipython",
    "version": 3
   },
   "file_extension": ".py",
   "mimetype": "text/x-python",
   "name": "python",
   "nbconvert_exporter": "python",
   "pygments_lexer": "ipython3",
   "version": "3.7.3"
  }
 },
 "nbformat": 4,
 "nbformat_minor": 4
}
